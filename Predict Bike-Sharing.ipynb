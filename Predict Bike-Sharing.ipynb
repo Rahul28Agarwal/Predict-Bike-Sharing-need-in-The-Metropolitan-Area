{
 "cells": [
  {
   "cell_type": "markdown",
   "metadata": {},
   "source": [
    
    "# Predict Bike-Sharing need in Metropolitan Area\n",
    "\n",
    "\n",

    "\n",
    "Programming Language: R 3.5.1 in Jupyter Notebook\n",
    "\n",
    "R Libraries used:\n",
    "- ISLR\n",
    "- reshape2\n",
    "- ggplot2\n",
    "- scales\n",
    "- gridExtra\n",
    "- moments\n",
    "- dplyr\n",
    "- caret"
   ]
  },
  {
   "cell_type": "markdown",
   "metadata": {},
   "source": [
    "## Table of Contents\n",
    "\n",
    "1. [Introduction](#sec_1)\n",
    "2. [Data Exploration](#sec_2)\n",
    "3. [Exploratory Data Analysis](#sec_3)\n",
    "4. [Methodology](#sec_4)\n",
    "5. [Model Development](#sec_5)\n",
    "6. [Results and discussion](#sec_6)\n",
    "7. [Conclusion](#sec_7)\n",
    "8. [References](#sec_8)"
   ]
  },
  {
   "cell_type": "markdown",
   "metadata": {},
   "source": [
    "\n",
    "## 1. Introduction<a class=\"anchor\" id=\"sec_1\"></a>"
   ]
  },
  {
   "cell_type": "markdown",
   "metadata": {},
   "source": [
    "For this task, we will use a machine learning technique to predict bike-sharing needs in the metropolitan area. We aim to build to predict the count on rented bike require on a particular hour.\n",
    "we have to solve two problems:\n",
    "1. Predict the number of bikes require each hour.\n",
    "2. Identify and justify the key factor based on statistical evidence.\n",
    "\n",
    "For this task, we will use two file CSV files \n",
    "1. train.csv\n",
    "2. test.csv\n"
   ]
  },
  {
   "cell_type": "code",
   "execution_count": 1,
   "metadata": {},
   "outputs": [
    {
     "name": "stderr",
     "output_type": "stream",
     "text": [
      "Warning message:\n",
      "\"package 'ggplot2' was built under R version 3.6.3\"Warning message:\n",
      "\"package 'gridExtra' was built under R version 3.6.3\"\n",
      "Attaching package: 'dplyr'\n",
      "\n",
      "The following object is masked from 'package:gridExtra':\n",
      "\n",
      "    combine\n",
      "\n",
      "The following objects are masked from 'package:stats':\n",
      "\n",
      "    filter, lag\n",
      "\n",
      "The following objects are masked from 'package:base':\n",
      "\n",
      "    intersect, setdiff, setequal, union\n",
      "\n",
      "Loading required package: lattice\n"
     ]
    }
   ],
   "source": [
    "# Import required libraries\n",
    "library(ISLR)\n",
    "library(reshape2)\n",
    "library(ggplot2)\n",
    "library(scales)\n",
    "library(gridExtra)\n",
    "library(moments) \n",
    "library(dplyr)   \n",
    "library(caret)\n"
   ]
  },
  {
   "cell_type": "markdown",
   "metadata": {},
   "source": [
    "## 2. Data Exploration<a class=\"anchor\" id=\"sec_2\"></a>\n",
    "In this section, we will explore the data and find out information about each attribute such as type, value, range, etc."
   ]
  },
  {
   "cell_type": "code",
   "execution_count": 2,
   "metadata": {},
   "outputs": [],
   "source": [
    "# Load the training dataset\n",
    "bike_data =  read.csv('train.csv')\n",
    "test_data =  read.csv('test.csv')"
   ]
  },
  {
   "cell_type": "code",
   "execution_count": 3,
   "metadata": {},
   "outputs": [
    {
     "name": "stdout",
     "output_type": "stream",
     "text": [
      "The bike sharing dataset has  7008  records, each with 14 attributes.\n",
      "Name of attributes :\n",
      " Date Rented.Bike.Count Hour Temperature Humidity Wind.speed Visibility Dew.point.temperature Solar.Radiation Rainfall Snowfall Seasons Holiday Functioning.Day"
     ]
    }
   ],
   "source": [
    "# Display the dimensions\n",
    "cat(\"The bike sharing dataset has \",dim(bike_data)[1],\" records, each with\",dim(bike_data)[2],'attributes.')\n",
    "# Display name of attributes\n",
    "cat(\"\\nName of attributes :\\n\",names(bike_data))"
   ]
  },
  {
   "cell_type": "markdown",
   "metadata": {},
   "source": [
    ">* **Date** : day-month-year\n",
    ">* **Rented.Bike.Count** : Count of bikes rented at each hour, the response variable \n",
    ">* **Hour** Hour of the day\n",
    ">* **Temperature** Temperature in Celsius\n",
    ">* **Humidity** in %\n",
    ">* **Wind.speed** m/s\n",
    ">* **Visibility** 10m\n",
    ">* **Dew.point.temperature** Celsius\n",
    ">* **Solar.Radiation** MJ/m2\n",
    ">* **Rainfall**: mm\n",
    ">* **Snowfall**: cm\n",
    ">* **Seasons**: winter, spring, summer, autumn\n",
    ">* **Holiday**: Holiday/No holiday, indicating if the corresponding date is a public holiday or not\n",
    ">* **Functioning.Day**:NoFunc(Non Functional Hours), Fun(Functional hours), the variable indicates the days when the rental bike system does not operate."
   ]
  },
  {
   "cell_type": "code",
   "execution_count": 4,
   "metadata": {},
   "outputs": [
    {
     "name": "stdout",
     "output_type": "stream",
     "text": [
      "\n",
      "Name of attributes :\n",
      " date rented_bike hour temperature humidity wind_speed visibility dew_temp solar_rad rainfall snowfall season holiday func_day"
     ]
    }
   ],
   "source": [
    "# Changing the column names\n",
    "col_names = c('date','rented_bike','hour','temperature','humidity','wind_speed','visibility','dew_temp','solar_rad','rainfall','snowfall','season','holiday','func_day')\n",
    "colnames(bike_data) = col_names\n",
    "cat(\"\\nName of attributes :\\n\",names(bike_data))"
   ]
  },
  {
   "cell_type": "code",
   "execution_count": 5,
   "metadata": {
    "scrolled": false
   },
   "outputs": [
    {
     "name": "stdout",
     "output_type": "stream",
     "text": [
      "'data.frame':\t7008 obs. of  14 variables:\n",
      " $ date       : Factor w/ 365 levels \"1/1/18\",\"1/10/18\",..: 54 78 255 300 77 151 105 353 210 10 ...\n",
      " $ rented_bike: int  705 289 126 378 236 708 715 1001 502 17 ...\n",
      " $ hour       : int  14 14 5 9 17 10 8 1 20 18 ...\n",
      " $ temperature: num  18.3 12.1 1.8 10.4 2.4 18.2 21.1 18.9 10.7 22.2 ...\n",
      " $ humidity   : int  43 97 34 81 17 36 70 55 70 96 ...\n",
      " $ wind_speed : num  2.2 2 0.9 1.4 3.1 1 0.3 2.3 2.8 1.2 ...\n",
      " $ visibility : int  1509 177 1990 2000 1990 620 766 2000 236 673 ...\n",
      " $ dew_temp   : num  5.4 11.6 -12.4 7.2 -20.2 2.8 15.4 9.6 5.4 21.5 ...\n",
      " $ solar_rad  : num  2.43 0.2 0 0.36 0.78 1.99 0.9 0 0 0.09 ...\n",
      " $ rainfall   : num  0 0 0 0 0 0 0 0 0 3.5 ...\n",
      " $ snowfall   : num  0 0 0 0 0 0 0 0 0 0 ...\n",
      " $ season     : Factor w/ 4 levels \"Autumn\",\"Spring\",..: 2 2 1 2 4 2 3 1 2 3 ...\n",
      " $ holiday    : Factor w/ 2 levels \"Holiday\",\"No Holiday\": 2 2 2 2 1 2 2 2 2 2 ...\n",
      " $ func_day   : Factor w/ 2 levels \"No\",\"Yes\": 2 2 2 2 2 2 2 2 2 2 ...\n"
     ]
    },
    {
     "data": {
      "text/html": [
       "<table>\n",
       "<thead><tr><th scope=col>date</th><th scope=col>rented_bike</th><th scope=col>hour</th><th scope=col>temperature</th><th scope=col>humidity</th><th scope=col>wind_speed</th><th scope=col>visibility</th><th scope=col>dew_temp</th><th scope=col>solar_rad</th><th scope=col>rainfall</th><th scope=col>snowfall</th><th scope=col>season</th><th scope=col>holiday</th><th scope=col>func_day</th></tr></thead>\n",
       "<tbody>\n",
       "\t<tr><td>13/3/18   </td><td>705       </td><td>14        </td><td>18.3      </td><td>43        </td><td>2.2       </td><td>1509      </td><td>  5.4     </td><td>2.43      </td><td>0         </td><td>0         </td><td>Spring    </td><td>No Holiday</td><td>Yes       </td></tr>\n",
       "\t<tr><td>15/3/18   </td><td>289       </td><td>14        </td><td>12.1      </td><td>97        </td><td>2.0       </td><td> 177      </td><td> 11.6     </td><td>0.20      </td><td>0         </td><td>0         </td><td>Spring    </td><td>No Holiday</td><td>Yes       </td></tr>\n",
       "\t<tr><td>29/11/18  </td><td>126       </td><td> 5        </td><td> 1.8      </td><td>34        </td><td>0.9       </td><td>1990      </td><td>-12.4     </td><td>0.00      </td><td>0         </td><td>0         </td><td>Autumn    </td><td>No Holiday</td><td>Yes       </td></tr>\n",
       "\t<tr><td>4/4/18    </td><td>378       </td><td> 9        </td><td>10.4      </td><td>81        </td><td>1.4       </td><td>2000      </td><td>  7.2     </td><td>0.36      </td><td>0         </td><td>0         </td><td>Spring    </td><td>No Holiday</td><td>Yes       </td></tr>\n",
       "\t<tr><td>15/2/18   </td><td>236       </td><td>17        </td><td> 2.4      </td><td>17        </td><td>3.1       </td><td>1990      </td><td>-20.2     </td><td>0.78      </td><td>0         </td><td>0         </td><td>Winter    </td><td>Holiday   </td><td>Yes       </td></tr>\n",
       "\t<tr><td>20/4/18   </td><td>708       </td><td>10        </td><td>18.2      </td><td>36        </td><td>1.0       </td><td> 620      </td><td>  2.8     </td><td>1.99      </td><td>0         </td><td>0         </td><td>Spring    </td><td>No Holiday</td><td>Yes       </td></tr>\n",
       "</tbody>\n",
       "</table>\n"
      ],
      "text/latex": [
       "\\begin{tabular}{r|llllllllllllll}\n",
       " date & rented\\_bike & hour & temperature & humidity & wind\\_speed & visibility & dew\\_temp & solar\\_rad & rainfall & snowfall & season & holiday & func\\_day\\\\\n",
       "\\hline\n",
       "\t 13/3/18    & 705        & 14         & 18.3       & 43         & 2.2        & 1509       &   5.4      & 2.43       & 0          & 0          & Spring     & No Holiday & Yes       \\\\\n",
       "\t 15/3/18    & 289        & 14         & 12.1       & 97         & 2.0        &  177       &  11.6      & 0.20       & 0          & 0          & Spring     & No Holiday & Yes       \\\\\n",
       "\t 29/11/18   & 126        &  5         &  1.8       & 34         & 0.9        & 1990       & -12.4      & 0.00       & 0          & 0          & Autumn     & No Holiday & Yes       \\\\\n",
       "\t 4/4/18     & 378        &  9         & 10.4       & 81         & 1.4        & 2000       &   7.2      & 0.36       & 0          & 0          & Spring     & No Holiday & Yes       \\\\\n",
       "\t 15/2/18    & 236        & 17         &  2.4       & 17         & 3.1        & 1990       & -20.2      & 0.78       & 0          & 0          & Winter     & Holiday    & Yes       \\\\\n",
       "\t 20/4/18    & 708        & 10         & 18.2       & 36         & 1.0        &  620       &   2.8      & 1.99       & 0          & 0          & Spring     & No Holiday & Yes       \\\\\n",
       "\\end{tabular}\n"
      ],
      "text/markdown": [
       "\n",
       "| date | rented_bike | hour | temperature | humidity | wind_speed | visibility | dew_temp | solar_rad | rainfall | snowfall | season | holiday | func_day |\n",
       "|---|---|---|---|---|---|---|---|---|---|---|---|---|---|\n",
       "| 13/3/18    | 705        | 14         | 18.3       | 43         | 2.2        | 1509       |   5.4      | 2.43       | 0          | 0          | Spring     | No Holiday | Yes        |\n",
       "| 15/3/18    | 289        | 14         | 12.1       | 97         | 2.0        |  177       |  11.6      | 0.20       | 0          | 0          | Spring     | No Holiday | Yes        |\n",
       "| 29/11/18   | 126        |  5         |  1.8       | 34         | 0.9        | 1990       | -12.4      | 0.00       | 0          | 0          | Autumn     | No Holiday | Yes        |\n",
       "| 4/4/18     | 378        |  9         | 10.4       | 81         | 1.4        | 2000       |   7.2      | 0.36       | 0          | 0          | Spring     | No Holiday | Yes        |\n",
       "| 15/2/18    | 236        | 17         |  2.4       | 17         | 3.1        | 1990       | -20.2      | 0.78       | 0          | 0          | Winter     | Holiday    | Yes        |\n",
       "| 20/4/18    | 708        | 10         | 18.2       | 36         | 1.0        |  620       |   2.8      | 1.99       | 0          | 0          | Spring     | No Holiday | Yes        |\n",
       "\n"
      ],
      "text/plain": [
       "  date     rented_bike hour temperature humidity wind_speed visibility dew_temp\n",
       "1 13/3/18  705         14   18.3        43       2.2        1509         5.4   \n",
       "2 15/3/18  289         14   12.1        97       2.0         177        11.6   \n",
       "3 29/11/18 126          5    1.8        34       0.9        1990       -12.4   \n",
       "4 4/4/18   378          9   10.4        81       1.4        2000         7.2   \n",
       "5 15/2/18  236         17    2.4        17       3.1        1990       -20.2   \n",
       "6 20/4/18  708         10   18.2        36       1.0         620         2.8   \n",
       "  solar_rad rainfall snowfall season holiday    func_day\n",
       "1 2.43      0        0        Spring No Holiday Yes     \n",
       "2 0.20      0        0        Spring No Holiday Yes     \n",
       "3 0.00      0        0        Autumn No Holiday Yes     \n",
       "4 0.36      0        0        Spring No Holiday Yes     \n",
       "5 0.78      0        0        Winter Holiday    Yes     \n",
       "6 1.99      0        0        Spring No Holiday Yes     "
      ]
     },
     "metadata": {},
     "output_type": "display_data"
    },
    {
     "data": {
      "text/html": [
       "<table>\n",
       "<thead><tr><th></th><th scope=col>date</th><th scope=col>rented_bike</th><th scope=col>hour</th><th scope=col>temperature</th><th scope=col>humidity</th><th scope=col>wind_speed</th><th scope=col>visibility</th><th scope=col>dew_temp</th><th scope=col>solar_rad</th><th scope=col>rainfall</th><th scope=col>snowfall</th><th scope=col>season</th><th scope=col>holiday</th><th scope=col>func_day</th></tr></thead>\n",
       "<tbody>\n",
       "\t<tr><th scope=row>7003</th><td>27/1/18   </td><td>189       </td><td>13        </td><td>-6.6      </td><td>27        </td><td>2.1       </td><td>1889      </td><td>-22.5     </td><td>1.24      </td><td>0         </td><td>0.3       </td><td>Winter    </td><td>No Holiday</td><td>Yes       </td></tr>\n",
       "\t<tr><th scope=row>7004</th><td>21/9/18   </td><td>127       </td><td> 8        </td><td>17.8      </td><td>97        </td><td>2.0       </td><td>1284      </td><td> 17.3     </td><td>0.09      </td><td>4         </td><td>0.0       </td><td>Autumn    </td><td>No Holiday</td><td>Yes       </td></tr>\n",
       "\t<tr><th scope=row>7005</th><td>11/2/18   </td><td> 58       </td><td> 3        </td><td>-7.2      </td><td>43        </td><td>2.0       </td><td>2000      </td><td>-17.6     </td><td>0.00      </td><td>0         </td><td>0.0       </td><td>Winter    </td><td>No Holiday</td><td>Yes       </td></tr>\n",
       "\t<tr><th scope=row>7006</th><td>30/3/18   </td><td>115       </td><td> 4        </td><td> 9.9      </td><td>67        </td><td>1.1       </td><td> 820      </td><td>  4.0     </td><td>0.00      </td><td>0         </td><td>0.0       </td><td>Spring    </td><td>No Holiday</td><td>Yes       </td></tr>\n",
       "\t<tr><th scope=row>7007</th><td>29/11/18  </td><td>800       </td><td> 7        </td><td> 0.8      </td><td>41        </td><td>0.6       </td><td>1298      </td><td>-10.9     </td><td>0.00      </td><td>0         </td><td>0.0       </td><td>Autumn    </td><td>No Holiday</td><td>Yes       </td></tr>\n",
       "\t<tr><th scope=row>7008</th><td>14/2/18   </td><td>349       </td><td>13        </td><td> 7.2      </td><td>65        </td><td>3.8       </td><td> 773      </td><td>  1.0     </td><td>0.61      </td><td>0         </td><td>0.0       </td><td>Winter    </td><td>No Holiday</td><td>Yes       </td></tr>\n",
       "</tbody>\n",
       "</table>\n"
      ],
      "text/latex": [
       "\\begin{tabular}{r|llllllllllllll}\n",
       "  & date & rented\\_bike & hour & temperature & humidity & wind\\_speed & visibility & dew\\_temp & solar\\_rad & rainfall & snowfall & season & holiday & func\\_day\\\\\n",
       "\\hline\n",
       "\t7003 & 27/1/18    & 189        & 13         & -6.6       & 27         & 2.1        & 1889       & -22.5      & 1.24       & 0          & 0.3        & Winter     & No Holiday & Yes       \\\\\n",
       "\t7004 & 21/9/18    & 127        &  8         & 17.8       & 97         & 2.0        & 1284       &  17.3      & 0.09       & 4          & 0.0        & Autumn     & No Holiday & Yes       \\\\\n",
       "\t7005 & 11/2/18    &  58        &  3         & -7.2       & 43         & 2.0        & 2000       & -17.6      & 0.00       & 0          & 0.0        & Winter     & No Holiday & Yes       \\\\\n",
       "\t7006 & 30/3/18    & 115        &  4         &  9.9       & 67         & 1.1        &  820       &   4.0      & 0.00       & 0          & 0.0        & Spring     & No Holiday & Yes       \\\\\n",
       "\t7007 & 29/11/18   & 800        &  7         &  0.8       & 41         & 0.6        & 1298       & -10.9      & 0.00       & 0          & 0.0        & Autumn     & No Holiday & Yes       \\\\\n",
       "\t7008 & 14/2/18    & 349        & 13         &  7.2       & 65         & 3.8        &  773       &   1.0      & 0.61       & 0          & 0.0        & Winter     & No Holiday & Yes       \\\\\n",
       "\\end{tabular}\n"
      ],
      "text/markdown": [
       "\n",
       "| <!--/--> | date | rented_bike | hour | temperature | humidity | wind_speed | visibility | dew_temp | solar_rad | rainfall | snowfall | season | holiday | func_day |\n",
       "|---|---|---|---|---|---|---|---|---|---|---|---|---|---|---|\n",
       "| 7003 | 27/1/18    | 189        | 13         | -6.6       | 27         | 2.1        | 1889       | -22.5      | 1.24       | 0          | 0.3        | Winter     | No Holiday | Yes        |\n",
       "| 7004 | 21/9/18    | 127        |  8         | 17.8       | 97         | 2.0        | 1284       |  17.3      | 0.09       | 4          | 0.0        | Autumn     | No Holiday | Yes        |\n",
       "| 7005 | 11/2/18    |  58        |  3         | -7.2       | 43         | 2.0        | 2000       | -17.6      | 0.00       | 0          | 0.0        | Winter     | No Holiday | Yes        |\n",
       "| 7006 | 30/3/18    | 115        |  4         |  9.9       | 67         | 1.1        |  820       |   4.0      | 0.00       | 0          | 0.0        | Spring     | No Holiday | Yes        |\n",
       "| 7007 | 29/11/18   | 800        |  7         |  0.8       | 41         | 0.6        | 1298       | -10.9      | 0.00       | 0          | 0.0        | Autumn     | No Holiday | Yes        |\n",
       "| 7008 | 14/2/18    | 349        | 13         |  7.2       | 65         | 3.8        |  773       |   1.0      | 0.61       | 0          | 0.0        | Winter     | No Holiday | Yes        |\n",
       "\n"
      ],
      "text/plain": [
       "     date     rented_bike hour temperature humidity wind_speed visibility\n",
       "7003 27/1/18  189         13   -6.6        27       2.1        1889      \n",
       "7004 21/9/18  127          8   17.8        97       2.0        1284      \n",
       "7005 11/2/18   58          3   -7.2        43       2.0        2000      \n",
       "7006 30/3/18  115          4    9.9        67       1.1         820      \n",
       "7007 29/11/18 800          7    0.8        41       0.6        1298      \n",
       "7008 14/2/18  349         13    7.2        65       3.8         773      \n",
       "     dew_temp solar_rad rainfall snowfall season holiday    func_day\n",
       "7003 -22.5    1.24      0        0.3      Winter No Holiday Yes     \n",
       "7004  17.3    0.09      4        0.0      Autumn No Holiday Yes     \n",
       "7005 -17.6    0.00      0        0.0      Winter No Holiday Yes     \n",
       "7006   4.0    0.00      0        0.0      Spring No Holiday Yes     \n",
       "7007 -10.9    0.00      0        0.0      Autumn No Holiday Yes     \n",
       "7008   1.0    0.61      0        0.0      Winter No Holiday Yes     "
      ]
     },
     "metadata": {},
     "output_type": "display_data"
    },
    {
     "name": "stdout",
     "output_type": "stream",
     "text": [
      "Statistics for each attribute"
     ]
    },
    {
     "data": {
      "text/plain": [
       "       date       rented_bike          hour        temperature    \n",
       " 30/7/18 :  24   Min.   :   0.0   Min.   : 0.00   Min.   :-17.50  \n",
       " 10/11/18:  23   1st Qu.: 188.0   1st Qu.: 5.75   1st Qu.:  3.40  \n",
       " 18/11/18:  23   Median : 503.0   Median :11.00   Median : 13.60  \n",
       " 19/8/18 :  23   Mean   : 703.2   Mean   :11.46   Mean   : 12.83  \n",
       " 20/1/18 :  23   3rd Qu.:1063.0   3rd Qu.:17.00   3rd Qu.: 22.50  \n",
       " 21/4/18 :  23   Max.   :3556.0   Max.   :23.00   Max.   : 39.40  \n",
       " (Other) :6869                                                    \n",
       "    humidity       wind_speed     visibility        dew_temp      \n",
       " Min.   : 0.00   Min.   :0.00   Min.   :  27.0   Min.   :-30.600  \n",
       " 1st Qu.:42.00   1st Qu.:0.90   1st Qu.: 944.8   1st Qu.: -4.700  \n",
       " Median :57.00   Median :1.50   Median :1693.0   Median :  5.000  \n",
       " Mean   :58.25   Mean   :1.72   Mean   :1436.0   Mean   :  4.029  \n",
       " 3rd Qu.:74.00   3rd Qu.:2.30   3rd Qu.:2000.0   3rd Qu.: 14.800  \n",
       " Max.   :98.00   Max.   :7.40   Max.   :2000.0   Max.   : 26.800  \n",
       "                                                                  \n",
       "   solar_rad         rainfall          snowfall          season    \n",
       " Min.   :0.0000   Min.   : 0.0000   Min.   :0.00000   Autumn:1753  \n",
       " 1st Qu.:0.0000   1st Qu.: 0.0000   1st Qu.:0.00000   Spring:1774  \n",
       " Median :0.0100   Median : 0.0000   Median :0.00000   Summer:1751  \n",
       " Mean   :0.5711   Mean   : 0.1517   Mean   :0.07593   Winter:1730  \n",
       " 3rd Qu.:0.9300   3rd Qu.: 0.0000   3rd Qu.:0.00000                \n",
       " Max.   :3.5200   Max.   :35.0000   Max.   :8.80000                \n",
       "                                                                   \n",
       "       holiday     func_day  \n",
       " Holiday   : 346   No : 239  \n",
       " No Holiday:6662   Yes:6769  \n",
       "                             \n",
       "                             \n",
       "                             \n",
       "                             \n",
       "                             "
      ]
     },
     "metadata": {},
     "output_type": "display_data"
    },
    {
     "name": "stdout",
     "output_type": "stream",
     "text": [
      "The number of unique values for each attributes are:"
     ]
    },
    {
     "data": {
      "text/html": [
       "<dl class=dl-horizontal>\n",
       "\t<dt>date</dt>\n",
       "\t\t<dd>365</dd>\n",
       "\t<dt>rented_bike</dt>\n",
       "\t\t<dd>2032</dd>\n",
       "\t<dt>hour</dt>\n",
       "\t\t<dd>24</dd>\n",
       "\t<dt>temperature</dt>\n",
       "\t\t<dd>540</dd>\n",
       "\t<dt>humidity</dt>\n",
       "\t\t<dd>89</dd>\n",
       "\t<dt>wind_speed</dt>\n",
       "\t\t<dd>64</dd>\n",
       "\t<dt>visibility</dt>\n",
       "\t\t<dd>1714</dd>\n",
       "\t<dt>dew_temp</dt>\n",
       "\t\t<dd>547</dd>\n",
       "\t<dt>solar_rad</dt>\n",
       "\t\t<dd>341</dd>\n",
       "\t<dt>rainfall</dt>\n",
       "\t\t<dd>58</dd>\n",
       "\t<dt>snowfall</dt>\n",
       "\t\t<dd>51</dd>\n",
       "\t<dt>season</dt>\n",
       "\t\t<dd>4</dd>\n",
       "\t<dt>holiday</dt>\n",
       "\t\t<dd>2</dd>\n",
       "\t<dt>func_day</dt>\n",
       "\t\t<dd>2</dd>\n",
       "</dl>\n"
      ],
      "text/latex": [
       "\\begin{description*}\n",
       "\\item[date] 365\n",
       "\\item[rented\\textbackslash{}\\_bike] 2032\n",
       "\\item[hour] 24\n",
       "\\item[temperature] 540\n",
       "\\item[humidity] 89\n",
       "\\item[wind\\textbackslash{}\\_speed] 64\n",
       "\\item[visibility] 1714\n",
       "\\item[dew\\textbackslash{}\\_temp] 547\n",
       "\\item[solar\\textbackslash{}\\_rad] 341\n",
       "\\item[rainfall] 58\n",
       "\\item[snowfall] 51\n",
       "\\item[season] 4\n",
       "\\item[holiday] 2\n",
       "\\item[func\\textbackslash{}\\_day] 2\n",
       "\\end{description*}\n"
      ],
      "text/markdown": [
       "date\n",
       ":   365rented_bike\n",
       ":   2032hour\n",
       ":   24temperature\n",
       ":   540humidity\n",
       ":   89wind_speed\n",
       ":   64visibility\n",
       ":   1714dew_temp\n",
       ":   547solar_rad\n",
       ":   341rainfall\n",
       ":   58snowfall\n",
       ":   51season\n",
       ":   4holiday\n",
       ":   2func_day\n",
       ":   2\n",
       "\n"
      ],
      "text/plain": [
       "       date rented_bike        hour temperature    humidity  wind_speed \n",
       "        365        2032          24         540          89          64 \n",
       " visibility    dew_temp   solar_rad    rainfall    snowfall      season \n",
       "       1714         547         341          58          51           4 \n",
       "    holiday    func_day \n",
       "          2           2 "
      ]
     },
     "metadata": {},
     "output_type": "display_data"
    }
   ],
   "source": [
    "# Display the structure of dataset\n",
    "str(bike_data)\n",
    "# Inspect first few rows\n",
    "head(bike_data)\n",
    "# Inspect last few rows\n",
    "tail(bike_data)\n",
    "cat('Statistics for each attribute')\n",
    "summary(bike_data)\n",
    "cat('The number of unique values for each attributes are:')\n",
    "sapply(bike_data, function(x) length(unique(x)) )"
   ]
  },
  {
   "cell_type": "markdown",
   "metadata": {},
   "source": [
    "##### Summary of Attributes\n",
    "\n",
    "\n",
    "|Attribute  |Type       |Sub-type  |Comments                                                                              |\n",
    "|-----------|-----------|----------|--------------------------------------------------------------------------------------|\n",
    "|date         |Categorical|Nominal   |date should of date type rather then factor|\n",
    "|rented_bike   |Numerical  |Discrete|Target variable - values range from 0 to 3556. Value is right skew because mean is greater than median.| \n",
    "|hour   |Numerical  |Discrete  |Values range from 0 to 23 - the mean is 11.46.|\n",
    "|temperature  |Numerical  |Continuous  |Values ranging from -17.50 to 39.4 celsius |\n",
    "|humidity|Numerical  |Discrete|Ranges from 0 to 98 percent - could have outliers                                        |\n",
    "|wind_speed   |Numerical  |Continuous|Ranges from 0.0 to 7.40|\n",
    "|visibility |Numerical|discrete   |Value Ranges from 27 to 200 - data is left skewed because mean is less than median  |\n",
    "|dew_temp  |Numerical|Continuous   |Ranges from -30.6 to 26.8 |\n",
    "|solar_rad      |Numerical|Continuous   |Ranges from 0.0 to 3.5 MJ/m2 - data is right skewed|\n",
    "|Rainfall   |Numerical  |Discrete  |Values range from 0 to 35 mm.|\n",
    "|snowfall    |Numerical|Continuous   |Values range from 0 to 8.8 cm.|\n",
    "|season    |Categorical|Ordinal   |Has 4 values- Autumn, spring, summer, and winter|\n",
    "|Holiday    |Categorical|Nominal |Has 2 values- Holiday, and No holiday - 95% of data caputered on no holiday|\n",
    "|func_day    |Categorical|Nominal |Has 2 values- Yes, and No - 96% of data caputered on functional day|\n",
    "\n",
    "\n",
    "1. Date column has the correct count of unique values because the maximum date count could be 365 or 355.\n",
    "2. Hour column unique count is correct because the maximum hour value could be 24.\n",
    "3. Season value is correct."
   ]
  },
  {
   "cell_type": "code",
   "execution_count": 6,
   "metadata": {},
   "outputs": [
    {
     "data": {
      "text/html": [
       "<dl class=dl-horizontal>\n",
       "\t<dt>date</dt>\n",
       "\t\t<dd>'Date'</dd>\n",
       "\t<dt>rented_bike</dt>\n",
       "\t\t<dd>'integer'</dd>\n",
       "\t<dt>hour</dt>\n",
       "\t\t<dd>'integer'</dd>\n",
       "\t<dt>temperature</dt>\n",
       "\t\t<dd>'numeric'</dd>\n",
       "\t<dt>humidity</dt>\n",
       "\t\t<dd>'integer'</dd>\n",
       "\t<dt>wind_speed</dt>\n",
       "\t\t<dd>'numeric'</dd>\n",
       "\t<dt>visibility</dt>\n",
       "\t\t<dd>'integer'</dd>\n",
       "\t<dt>dew_temp</dt>\n",
       "\t\t<dd>'numeric'</dd>\n",
       "\t<dt>solar_rad</dt>\n",
       "\t\t<dd>'numeric'</dd>\n",
       "\t<dt>rainfall</dt>\n",
       "\t\t<dd>'numeric'</dd>\n",
       "\t<dt>snowfall</dt>\n",
       "\t\t<dd>'numeric'</dd>\n",
       "\t<dt>season</dt>\n",
       "\t\t<dd>'factor'</dd>\n",
       "\t<dt>holiday</dt>\n",
       "\t\t<dd>'factor'</dd>\n",
       "\t<dt>func_day</dt>\n",
       "\t\t<dd>'factor'</dd>\n",
       "</dl>\n"
      ],
      "text/latex": [
       "\\begin{description*}\n",
       "\\item[date] 'Date'\n",
       "\\item[rented\\textbackslash{}\\_bike] 'integer'\n",
       "\\item[hour] 'integer'\n",
       "\\item[temperature] 'numeric'\n",
       "\\item[humidity] 'integer'\n",
       "\\item[wind\\textbackslash{}\\_speed] 'numeric'\n",
       "\\item[visibility] 'integer'\n",
       "\\item[dew\\textbackslash{}\\_temp] 'numeric'\n",
       "\\item[solar\\textbackslash{}\\_rad] 'numeric'\n",
       "\\item[rainfall] 'numeric'\n",
       "\\item[snowfall] 'numeric'\n",
       "\\item[season] 'factor'\n",
       "\\item[holiday] 'factor'\n",
       "\\item[func\\textbackslash{}\\_day] 'factor'\n",
       "\\end{description*}\n"
      ],
      "text/markdown": [
       "date\n",
       ":   'Date'rented_bike\n",
       ":   'integer'hour\n",
       ":   'integer'temperature\n",
       ":   'numeric'humidity\n",
       ":   'integer'wind_speed\n",
       ":   'numeric'visibility\n",
       ":   'integer'dew_temp\n",
       ":   'numeric'solar_rad\n",
       ":   'numeric'rainfall\n",
       ":   'numeric'snowfall\n",
       ":   'numeric'season\n",
       ":   'factor'holiday\n",
       ":   'factor'func_day\n",
       ":   'factor'\n",
       "\n"
      ],
      "text/plain": [
       "       date rented_bike        hour temperature    humidity  wind_speed \n",
       "     \"Date\"   \"integer\"   \"integer\"   \"numeric\"   \"integer\"   \"numeric\" \n",
       " visibility    dew_temp   solar_rad    rainfall    snowfall      season \n",
       "  \"integer\"   \"numeric\"   \"numeric\"   \"numeric\"   \"numeric\"    \"factor\" \n",
       "    holiday    func_day \n",
       "   \"factor\"    \"factor\" "
      ]
     },
     "metadata": {},
     "output_type": "display_data"
    },
    {
     "data": {
      "text/html": [
       "<table>\n",
       "<thead><tr><th scope=col>date</th><th scope=col>rented_bike</th><th scope=col>hour</th><th scope=col>temperature</th><th scope=col>humidity</th><th scope=col>wind_speed</th><th scope=col>visibility</th><th scope=col>dew_temp</th><th scope=col>solar_rad</th><th scope=col>rainfall</th><th scope=col>snowfall</th><th scope=col>season</th><th scope=col>holiday</th><th scope=col>func_day</th></tr></thead>\n",
       "<tbody>\n",
       "\t<tr><td>2018-03-13</td><td>705       </td><td>14        </td><td>18.3      </td><td>43        </td><td>2.2       </td><td>1509      </td><td>  5.4     </td><td>2.43      </td><td>0         </td><td>0         </td><td>Spring    </td><td>No Holiday</td><td>Yes       </td></tr>\n",
       "\t<tr><td>2018-03-15</td><td>289       </td><td>14        </td><td>12.1      </td><td>97        </td><td>2.0       </td><td> 177      </td><td> 11.6     </td><td>0.20      </td><td>0         </td><td>0         </td><td>Spring    </td><td>No Holiday</td><td>Yes       </td></tr>\n",
       "\t<tr><td>2018-11-29</td><td>126       </td><td> 5        </td><td> 1.8      </td><td>34        </td><td>0.9       </td><td>1990      </td><td>-12.4     </td><td>0.00      </td><td>0         </td><td>0         </td><td>Autumn    </td><td>No Holiday</td><td>Yes       </td></tr>\n",
       "\t<tr><td>2018-04-04</td><td>378       </td><td> 9        </td><td>10.4      </td><td>81        </td><td>1.4       </td><td>2000      </td><td>  7.2     </td><td>0.36      </td><td>0         </td><td>0         </td><td>Spring    </td><td>No Holiday</td><td>Yes       </td></tr>\n",
       "\t<tr><td>2018-02-15</td><td>236       </td><td>17        </td><td> 2.4      </td><td>17        </td><td>3.1       </td><td>1990      </td><td>-20.2     </td><td>0.78      </td><td>0         </td><td>0         </td><td>Winter    </td><td>Holiday   </td><td>Yes       </td></tr>\n",
       "\t<tr><td>2018-04-20</td><td>708       </td><td>10        </td><td>18.2      </td><td>36        </td><td>1.0       </td><td> 620      </td><td>  2.8     </td><td>1.99      </td><td>0         </td><td>0         </td><td>Spring    </td><td>No Holiday</td><td>Yes       </td></tr>\n",
       "</tbody>\n",
       "</table>\n"
      ],
      "text/latex": [
       "\\begin{tabular}{r|llllllllllllll}\n",
       " date & rented\\_bike & hour & temperature & humidity & wind\\_speed & visibility & dew\\_temp & solar\\_rad & rainfall & snowfall & season & holiday & func\\_day\\\\\n",
       "\\hline\n",
       "\t 2018-03-13 & 705        & 14         & 18.3       & 43         & 2.2        & 1509       &   5.4      & 2.43       & 0          & 0          & Spring     & No Holiday & Yes       \\\\\n",
       "\t 2018-03-15 & 289        & 14         & 12.1       & 97         & 2.0        &  177       &  11.6      & 0.20       & 0          & 0          & Spring     & No Holiday & Yes       \\\\\n",
       "\t 2018-11-29 & 126        &  5         &  1.8       & 34         & 0.9        & 1990       & -12.4      & 0.00       & 0          & 0          & Autumn     & No Holiday & Yes       \\\\\n",
       "\t 2018-04-04 & 378        &  9         & 10.4       & 81         & 1.4        & 2000       &   7.2      & 0.36       & 0          & 0          & Spring     & No Holiday & Yes       \\\\\n",
       "\t 2018-02-15 & 236        & 17         &  2.4       & 17         & 3.1        & 1990       & -20.2      & 0.78       & 0          & 0          & Winter     & Holiday    & Yes       \\\\\n",
       "\t 2018-04-20 & 708        & 10         & 18.2       & 36         & 1.0        &  620       &   2.8      & 1.99       & 0          & 0          & Spring     & No Holiday & Yes       \\\\\n",
       "\\end{tabular}\n"
      ],
      "text/markdown": [
       "\n",
       "| date | rented_bike | hour | temperature | humidity | wind_speed | visibility | dew_temp | solar_rad | rainfall | snowfall | season | holiday | func_day |\n",
       "|---|---|---|---|---|---|---|---|---|---|---|---|---|---|\n",
       "| 2018-03-13 | 705        | 14         | 18.3       | 43         | 2.2        | 1509       |   5.4      | 2.43       | 0          | 0          | Spring     | No Holiday | Yes        |\n",
       "| 2018-03-15 | 289        | 14         | 12.1       | 97         | 2.0        |  177       |  11.6      | 0.20       | 0          | 0          | Spring     | No Holiday | Yes        |\n",
       "| 2018-11-29 | 126        |  5         |  1.8       | 34         | 0.9        | 1990       | -12.4      | 0.00       | 0          | 0          | Autumn     | No Holiday | Yes        |\n",
       "| 2018-04-04 | 378        |  9         | 10.4       | 81         | 1.4        | 2000       |   7.2      | 0.36       | 0          | 0          | Spring     | No Holiday | Yes        |\n",
       "| 2018-02-15 | 236        | 17         |  2.4       | 17         | 3.1        | 1990       | -20.2      | 0.78       | 0          | 0          | Winter     | Holiday    | Yes        |\n",
       "| 2018-04-20 | 708        | 10         | 18.2       | 36         | 1.0        |  620       |   2.8      | 1.99       | 0          | 0          | Spring     | No Holiday | Yes        |\n",
       "\n"
      ],
      "text/plain": [
       "  date       rented_bike hour temperature humidity wind_speed visibility\n",
       "1 2018-03-13 705         14   18.3        43       2.2        1509      \n",
       "2 2018-03-15 289         14   12.1        97       2.0         177      \n",
       "3 2018-11-29 126          5    1.8        34       0.9        1990      \n",
       "4 2018-04-04 378          9   10.4        81       1.4        2000      \n",
       "5 2018-02-15 236         17    2.4        17       3.1        1990      \n",
       "6 2018-04-20 708         10   18.2        36       1.0         620      \n",
       "  dew_temp solar_rad rainfall snowfall season holiday    func_day\n",
       "1   5.4    2.43      0        0        Spring No Holiday Yes     \n",
       "2  11.6    0.20      0        0        Spring No Holiday Yes     \n",
       "3 -12.4    0.00      0        0        Autumn No Holiday Yes     \n",
       "4   7.2    0.36      0        0        Spring No Holiday Yes     \n",
       "5 -20.2    0.78      0        0        Winter Holiday    Yes     \n",
       "6   2.8    1.99      0        0        Spring No Holiday Yes     "
      ]
     },
     "metadata": {},
     "output_type": "display_data"
    }
   ],
   "source": [
    "# Converting the date column type to date\n",
    "bike_data$date =  as.Date(bike_data$date, format=\"%d/%m/%y\")\n",
    "sapply(bike_data, class)\n",
    "head(bike_data)"
   ]
  },
  {
   "cell_type": "markdown",
   "metadata": {},
   "source": [
    "## 3. Exploratory Data Analysis<a class=\"anchor\" id=\"sec_3\"></a>"
   ]
  },
  {
   "cell_type": "code",
   "execution_count": 7,
   "metadata": {},
   "outputs": [
    {
     "name": "stderr",
     "output_type": "stream",
     "text": [
      "No id variables; using all as measure variables\n",
      "Warning message:\n",
      "\"attributes are not identical across measure variables; they will be dropped\""
     ]
    },
    {
     "data": {
      "image/png": "[encoded data removed]",
      "text/plain": [
       "plot without title"
      ]
     },
     "metadata": {},
     "output_type": "display_data"
    }
   ],
   "source": [
    "# Analyse the numerical variable using box plot\n",
    "melted_data =  melt(as.data.frame(bike_data[,c(-12,-13,-14)]))\n",
    "ggplot(melted_data, aes(x=variable, y=value))+\n",
    "    facet_wrap(~variable, scale=\"free\")+\n",
    "    geom_boxplot()+\n",
    "    scale_y_continuous(labels=function (n) {format(n, scientific=FALSE)})"
   ]
  },
  {
   "cell_type": "markdown",
   "metadata": {},
   "source": [
    "According to the above boxplot:\n",
    "1. Rented_bike, wind_speed, and solar_rad have some outliers\n",
    "2. Rainfall and snowfall have a lot of outliers."
   ]
  },
  {
   "cell_type": "code",
   "execution_count": 8,
   "metadata": {},
   "outputs": [
    {
     "data": {
      "image/png": "[encoded data removed]",
      "text/plain": [
       "Plot with title \"Histogram of bike_data$dew_temp\""
      ]
     },
     "metadata": {},
     "output_type": "display_data"
    }
   ],
   "source": [
    "#  Ploting histogram and bar chart\n",
    "par(mfrow = c(3,2))\n",
    "hist(bike_data$rented_bike,col='red', xlab ='Rented bikes per hour')\n",
    "hist(bike_data$temperature,col='red', xlab='Temperature in celsius')\n",
    "hist(bike_data$hour,col='red', xlab='Hour')\n",
    "hist(bike_data$humidity, col='red',xlab='humidity(%)')\n",
    "hist(bike_data$visibility,col='red', xlab='visibility(m)')\n",
    "hist(bike_data$dew_temp,col='red', xlab='dew temperature in celsisus')"
   ]
  },
  {
   "cell_type": "markdown",
   "metadata": {},
   "source": [
    "According to the above histogram:\n",
    "1. rented_bike is highly right-skewed with max value 3500\n",
    "2. Temperature is a little bit left-skewed\n",
    "3. Hour attribute is almost uniform\n",
    "4. humidity is somewhat left-skewed\n",
    "5. visibility and dew_temp is highly left-skewed "
   ]
  },
  {
   "cell_type": "code",
   "execution_count": 9,
   "metadata": {},
   "outputs": [
    {
     "data": {
      "image/png": "[encoded data removed]",
      "text/plain": [
       "Plot with title \"Histogram of bike_data$snowfall\""
      ]
     },
     "metadata": {},
     "output_type": "display_data"
    }
   ],
   "source": [
    "par(mfrow = c(3,2))\n",
    "hist(bike_data$solar_rad, col='red',xlab='Solar radiation(MJ/m2)')\n",
    "hist(bike_data$rainfall, col='red', xlab='Rainfall(mm)')\n",
    "hist(bike_data$snowfall,col='red', xlab='Snowfall(cm)')\n",
    "barplot(table(bike_data$season),col='#ABEBC6',)\n",
    "barplot(table(bike_data$holiday),col='#ABEBC6',)\n",
    "barplot(table(bike_data$func_day),col='#ABEBC6',)"
   ]
  },
  {
   "cell_type": "markdown",
   "metadata": {},
   "source": [
    "From the above histogram and barplot we can say:\n",
    "1. solar radiation is highly right-skewed\n",
    "2. Rainfall is somewhat right-skewed\n",
    "3. Snowfall is right-skewed\n",
    "4. Data is evenly distributed among four seasons\n",
    "5. 95% the data is collected on no holiday\n",
    "5. 96% the data is collected on a functional day"
   ]
  },
  {
   "cell_type": "markdown",
   "metadata": {},
   "source": [
    "Since a lot of attributes are skewed, so we are going to re-plot the histogram using log-scale/sqrt/inverse because regression models can make better predictions if the explanatory and target variable is normally distributed."
   ]
  },
  {
   "cell_type": "code",
   "execution_count": 10,
   "metadata": {},
   "outputs": [
    {
     "name": "stdout",
     "output_type": "stream",
     "text": [
      "Skewness of rented bike: 1.137987\n",
      "Skewness after log transformation -1.811981\n",
      "Skewness after sqrt transformation 0.2376743\n",
      "Skewness after inverse transformation 5.094864"
     ]
    },
    {
     "data": {
      "image/png": "[encoded data removed]",
      "text/plain": [
       "plot without title"
      ]
     },
     "metadata": {},
     "output_type": "display_data"
    }
   ],
   "source": [
    "# Calculate the skewness using different transformation\n",
    "a = bike_data$rented_bike\n",
    "log = sapply(a, function(x) log10(x+1))\n",
    "sqrt = sapply(a, function(x) sqrt(x))\n",
    "inverse = sapply(a, function(x) 1/(x+1))\n",
    "df = data.frame(a,log,sqrt, inverse)                 \n",
    "cat('Skewness of rented bike:',skewness(a, na.rm = TRUE))\n",
    "cat('\\nSkewness after log transformation',skewness(log, na.rm = TRUE))\n",
    "cat('\\nSkewness after sqrt transformation',skewness(sqrt, na.rm = TRUE))                \n",
    "cat('\\nSkewness after inverse transformation',skewness(inverse, na.rm = TRUE))                \n",
    "\n",
    "options(warn=-1)\n",
    "p1= ggplot(aes(x=a), data=df)+\n",
    "    geom_histogram(bins=20, colour='black', fill='#ABEBC6')+\n",
    "    xlab('Rented bike')\n",
    "p2= ggplot(aes(x=log), data=df)+\n",
    "    geom_histogram(bins=20, colour='black', fill='#ABEBC6')+\n",
    "    scale_x_log10(labels=comma,breaks=c(10,50,100,300,800,100))+\n",
    "    xlab('log transformation of rented bike')\n",
    "p3= ggplot(aes(x=sqrt), data=df)+\n",
    "    geom_histogram(bins=20, colour='black', fill='#ABEBC6')+\n",
    "    scale_x_sqrt(labels=comma,breaks=c(10,50,100,300,800,100))+\n",
    "    xlab('sqrt transformation of rented bike')\n",
    "p4= ggplot(aes(x=inverse), data=df)+\n",
    "    geom_histogram(bins=20, colour='black', fill='#ABEBC6')+\n",
    "    scale_x_reverse(labels=comma,breaks=c(10,50,100,300,800,100))+\n",
    "    xlab('Inverse transformation of rented bike')\n",
    "grid.arrange(p1, p2, p3,p4, ncol=2, nrow=2)"
   ]
  },
  {
   "cell_type": "markdown",
   "metadata": {},
   "source": [
    "From the above skewness values and histograms, we can conclude that sqrt transformation is more suitable for the rented bike."
   ]
  },
  {
   "cell_type": "code",
   "execution_count": 11,
   "metadata": {},
   "outputs": [
    {
     "name": "stdout",
     "output_type": "stream",
     "text": [
      "Skewness of without transformation: 0.05173148\n",
      "Skewness after log transformation -2.115412\n",
      "Skewness after sqrt transformation -0.4951599\n",
      "Skewness after inverse transformation 21.79142"
     ]
    },
    {
     "data": {
      "image/png": "[encoded data removed]",
      "text/plain": [
       "plot without title"
      ]
     },
     "metadata": {},
     "output_type": "display_data"
    }
   ],
   "source": [
    "# Calculate the skewness using different transformation\n",
    "a = bike_data$humidity\n",
    "log = sapply(a, function(x) log10(x+1))\n",
    "sqrt = sapply(a, function(x) sqrt(x))\n",
    "inverse = sapply(a, function(x) 1/(x+1))\n",
    "df = data.frame(a,log,sqrt, inverse)\n",
    "cat('Skewness of without transformation:',skewness(a, na.rm = TRUE))\n",
    "cat('\\nSkewness after log transformation',skewness(log, na.rm = TRUE))\n",
    "cat('\\nSkewness after sqrt transformation',skewness(sqrt, na.rm = TRUE))                \n",
    "cat('\\nSkewness after inverse transformation',skewness(inverse, na.rm = TRUE))                \n",
    "\n",
    "options(warn=-1)\n",
    "par(mfrow = c(3,2))\n",
    "p1= ggplot(aes(x=a), data=df)+\n",
    "    geom_histogram(bins=20, colour='black', fill='#ABEBC6')+\n",
    "    xlab('Humidity')\n",
    "p2= ggplot(aes(x=log), data=df)+\n",
    "    geom_histogram(bins=20, colour='black', fill='#ABEBC6')+\n",
    "    scale_x_log10(labels=comma,breaks=c(10,50,100,300,800,1000))+\n",
    "    xlab('log transformation of Humidity')\n",
    "p3= ggplot(aes(x=sqrt), data=df)+\n",
    "    geom_histogram(bins=20, colour='black', fill='#ABEBC6')+\n",
    "    scale_x_sqrt(labels=comma,breaks=c(10,50,100,300,800,1000))+\n",
    "    xlab('sqrt transformation of Humidity')\n",
    "p4= ggplot(aes(x=inverse), data=df)+\n",
    "    geom_histogram(bins=20, colour='black', fill='#ABEBC6')+\n",
    "    scale_x_reverse(labels=comma,breaks=c(0,3,5,10))+\n",
    "    xlab('Inverse transformation of Humidity')\n",
    "grid.arrange(p1, p2, p3, p4, ncol=2, nrow=2)"
   ]
  },
  {
   "cell_type": "markdown",
   "metadata": {},
   "source": [
    "From the above skewness values and histogram, we can conclude that no transformation is required"
   ]
  },
  {
   "cell_type": "code",
   "execution_count": 12,
   "metadata": {},
   "outputs": [
    {
     "name": "stdout",
     "output_type": "stream",
     "text": [
      "Skewness without transformation: -0.7042259\n",
      "Skewness after log transformation -0.616596\n",
      "Skewness after sqrt transformation -1.019968\n",
      "Skewness after inverse transformation 1.088431"
     ]
    },
    {
     "data": {
      "image/png": "[encoded data removed]",
      "text/plain": [
       "plot without title"
      ]
     },
     "metadata": {},
     "output_type": "display_data"
    }
   ],
   "source": [
    "# Calculate the skewness using different transformation\n",
    "a = bike_data$visibility\n",
    "log = sapply(a, function(x) log10(max(a+1) -x))\n",
    "sqrt = sapply(a, function(x) sqrt(x))\n",
    "inverse = sapply(a, function(x) 1/(max(a+1)-x))\n",
    "df = data.frame(a,log,sqrt, inverse)\n",
    "    \n",
    "cat('Skewness without transformation:',skewness(a, na.rm = TRUE))\n",
    "cat('\\nSkewness after log transformation',skewness(log, na.rm = TRUE))\n",
    "cat('\\nSkewness after sqrt transformation',skewness(sqrt, na.rm = TRUE))                \n",
    "cat('\\nSkewness after inverse transformation',skewness(inverse, na.rm = TRUE))                \n",
    "\n",
    "options(warn=-1)\n",
    "p1= ggplot(aes(x=a), data=bike_data)+\n",
    "    geom_histogram(bins=20, colour='black', fill='#ABEBC6')+\n",
    "    xlab('visibility')\n",
    "p2= ggplot(aes(x=log), data=df)+\n",
    "    geom_histogram(bins=20, colour='black', fill='#ABEBC6')+\n",
    "    scale_x_log10(labels=comma,breaks=c(10,50,100,300,800,100))+\n",
    "    xlab('log transformation of visibility')\n",
    "p3= ggplot(aes(x=sqrt), data=df)+\n",
    "    geom_histogram(bins=20, colour='black', fill='#ABEBC6')+\n",
    "    scale_x_sqrt(labels=comma,breaks=c(10,50,100,300,800,100))+\n",
    "    xlab('sqrt transformation of visibility')\n",
    "p4= ggplot(aes(x=inverse), data=df)+\n",
    "    geom_histogram(bins=20, colour='black', fill='#ABEBC6')+\n",
    "    scale_x_reverse(labels=comma,breaks=c(10,50,100,300,800,100))+\n",
    "    xlab('Inverse transformation of visibility')\n",
    "grid.arrange(p1, p2, p3, p4, ncol=2, nrow=2)"
   ]
  },
  {
   "cell_type": "markdown",
   "metadata": {},
   "source": [
    "From the above skewness values and histogram, we can conclude that log transformation is more suitable for Visibility"
   ]
  },
  {
   "cell_type": "code",
   "execution_count": 13,
   "metadata": {},
   "outputs": [
    {
     "name": "stdout",
     "output_type": "stream",
     "text": [
      "Skewness without transformation: 14.79495\n",
      "Skewness after log transformation 6.498368\n",
      "Skewness after sqrt transformation 6.711054\n",
      "Skewness after inverse transformation -4.711304"
     ]
    },
    {
     "data": {
      "image/png": "[encoded data removed]",
      "text/plain": [
       "plot without title"
      ]
     },
     "metadata": {},
     "output_type": "display_data"
    }
   ],
   "source": [
    "# Calculate the skewness using different transformation\n",
    "a = bike_data$rainfall\n",
    "log = sapply(a, function(x) log10(x+1))\n",
    "sqrt = sapply(a, function(x) sqrt(x))\n",
    "inverse = sapply(a, function(x) 1/(x+1))\n",
    "df = data.frame(a,log,sqrt, inverse)\n",
    "    \n",
    "cat('Skewness without transformation:',skewness(a, na.rm = TRUE))\n",
    "cat('\\nSkewness after log transformation',skewness(log, na.rm = TRUE))\n",
    "cat('\\nSkewness after sqrt transformation',skewness(sqrt, na.rm = TRUE))                \n",
    "cat('\\nSkewness after inverse transformation',skewness(inverse, na.rm = TRUE))                \n",
    "\n",
    "options(warn=-1)\n",
    "p1= ggplot(aes(x=a), data=bike_data)+\n",
    "    geom_histogram(bins=20, colour='black', fill='#ABEBC6')+\n",
    "    xlab('rainfall')\n",
    "p2= ggplot(aes(x=log), data=df)+\n",
    "    geom_histogram(bins=20, colour='black', fill='#ABEBC6')+\n",
    "    scale_x_log10(labels=comma,breaks=c(10,50,100,300,800,100))+\n",
    "    xlab('log transformation of rainfall')\n",
    "p3= ggplot(aes(x=sqrt), data=df)+\n",
    "    geom_histogram(bins=20, colour='black', fill='#ABEBC6')+\n",
    "    scale_x_sqrt(labels=comma,breaks=c(10,50,100,300,800,100))+\n",
    "    xlab('sqrt transformation of rainfall')\n",
    "p4= ggplot(aes(x=inverse), data=df)+\n",
    "    geom_histogram(bins=20, colour='black', fill='#ABEBC6')+\n",
    "    scale_x_reverse(labels=comma,breaks=c(10,50,100,300,800,100))+\n",
    "    xlab('Inverse transformation of rainfall')\n",
    "grid.arrange(p1, p2, p3, p4, ncol=2, nrow=2)"
   ]
  },
  {
   "cell_type": "markdown",
   "metadata": {},
   "source": [
    "From the above skewness values and histogram, we can conclude that log transformation is more suitable for Rainfall"
   ]
  },
  {
   "cell_type": "markdown",
   "metadata": {},
   "source": [
    "#### 3.1 Explore the relation between variables"
   ]
  },
  {
   "cell_type": "code",
   "execution_count": 14,
   "metadata": {},
   "outputs": [
    {
     "name": "stderr",
     "output_type": "stream",
     "text": [
      "corrplot 0.84 loaded\n"
     ]
    },
    {
     "data": {
      "image/png": "[encoded data removed]",
      "text/plain": [
       "Plot with title \"\""
      ]
     },
     "metadata": {},
     "output_type": "display_data"
    }
   ],
   "source": [
    "columns = c('rented_bike', 'hour', 'temperature', 'humidity', 'wind_speed', 'visibility', 'dew_temp', 'solar_rad', 'rainfall', 'snowfall')\n",
    "library(corrplot)\n",
    "corrplot.mixed(cor(bike_data[,columns]), lower.col = \"black\", number.cex = .8, tl.cex=.5)"
   ]
  },
  {
   "cell_type": "markdown",
   "metadata": {},
   "source": [
    "From the above correlation graph we can depict:\n",
    "- Temperature and dew_temperature are highly positively correlated.\n",
    "-  Hour is positively associated with temperature, wind_speed. But it is negatively associated with humidity.\n",
    "- Temperature is positively correlated to humidity, and solar_rad. But it is negatively correlated to snowfall.\n",
    "- Humidity is negatively correlated to wind_speed, visibility, and solar_rad. Humidity is positively associated with dew_temp."
   ]
  },
  {
   "cell_type": "code",
   "execution_count": 15,
   "metadata": {},
   "outputs": [
    {
     "name": "stderr",
     "output_type": "stream",
     "text": [
      "`geom_smooth()` using formula 'y ~ x'\n",
      "`geom_smooth()` using formula 'y ~ x'\n",
      "`geom_smooth()` using formula 'y ~ x'\n",
      "`geom_smooth()` using formula 'y ~ x'\n",
      "`geom_smooth()` using formula 'y ~ x'\n",
      "`geom_smooth()` using formula 'y ~ x'\n",
      "`geom_smooth()` using formula 'y ~ x'\n",
      "`geom_smooth()` using formula 'y ~ x'\n",
      "`geom_smooth()` using formula 'y ~ x'\n"
     ]
    },
    {
     "data": {
      "image/png": "[encoded data removed]",
      "text/plain": [
       "plot without title"
      ]
     },
     "metadata": {},
     "output_type": "display_data"
    }
   ],
   "source": [
    "columns = c( 'hour', 'temperature', 'humidity', 'wind_speed', 'visibility', 'dew_temp', 'solar_rad', 'rainfall', 'snowfall')\n",
    "p = c()\n",
    "i=1\n",
    "for(col in columns){\n",
    "   p[[i]] =ggplot(aes_string(x=col,y='log(rented_bike + 1)'), data=bike_data)+\n",
    "    geom_point(pch=21,colour='black', fill='#ABEBC6')+\n",
    "    geom_smooth(method='lm')+\n",
    "    xlab(col)\n",
    "    i = i+1\n",
    "}\n",
    "grid.arrange(p[[1]], p[[2]], p[[3]], p[[4]],p[[5]], p[[6]], p[[7]], p[[8]],p[[9]], ncol=3, nrow=3)"
   ]
  },
  {
   "cell_type": "markdown",
   "metadata": {},
   "source": [
    "The log transformation of rented_bike variable results into more linear interaction with other independent variable."
   ]
  },
  {
   "cell_type": "markdown",
   "metadata": {},
   "source": [
    "### 3.2 Analyse categorical variables"
   ]
  },
  {
   "cell_type": "markdown",
   "metadata": {},
   "source": [
    "How many bikes rented according to season?"
   ]
  },
  {
   "cell_type": "code",
   "execution_count": 16,
   "metadata": {
    "scrolled": false
   },
   "outputs": [
    {
     "data": {
      "text/html": [
       "<table>\n",
       "<thead><tr><th scope=col>season</th><th scope=col>rented_bike</th></tr></thead>\n",
       "<tbody>\n",
       "\t<tr><td>Autumn </td><td>1410496</td></tr>\n",
       "\t<tr><td>Spring </td><td>1299747</td></tr>\n",
       "\t<tr><td>Summer </td><td>1830884</td></tr>\n",
       "\t<tr><td>Winter </td><td> 386553</td></tr>\n",
       "</tbody>\n",
       "</table>\n"
      ],
      "text/latex": [
       "\\begin{tabular}{r|ll}\n",
       " season & rented\\_bike\\\\\n",
       "\\hline\n",
       "\t Autumn  & 1410496\\\\\n",
       "\t Spring  & 1299747\\\\\n",
       "\t Summer  & 1830884\\\\\n",
       "\t Winter  &  386553\\\\\n",
       "\\end{tabular}\n"
      ],
      "text/markdown": [
       "\n",
       "| season | rented_bike |\n",
       "|---|---|\n",
       "| Autumn  | 1410496 |\n",
       "| Spring  | 1299747 |\n",
       "| Summer  | 1830884 |\n",
       "| Winter  |  386553 |\n",
       "\n"
      ],
      "text/plain": [
       "  season rented_bike\n",
       "1 Autumn 1410496    \n",
       "2 Spring 1299747    \n",
       "3 Summer 1830884    \n",
       "4 Winter  386553    "
      ]
     },
     "metadata": {},
     "output_type": "display_data"
    },
    {
     "data": {
      "image/png": "[encoded data removed]",
      "text/plain": [
       "plot without title"
      ]
     },
     "metadata": {},
     "output_type": "display_data"
    }
   ],
   "source": [
    "bike_group_by_season = bike_data %>%\n",
    "    group_by(season) %>%\n",
    "    summarize(rented_bike = sum(rented_bike))\n",
    "ggplot(data=bike_group_by_season, aes(x=season, y=rented_bike)) +\n",
    "  geom_bar(stat=\"identity\", fill = '#ABEBC6',color='black')\n",
    "bike_group_by_season"
   ]
  },
  {
   "cell_type": "markdown",
   "metadata": {},
   "source": [
    "According to the above bar plot, we can say that mostly the bikes are rented in summer. People don't prefer to rent a bike in winter."
   ]
  },
  {
   "cell_type": "markdown",
   "metadata": {},
   "source": [
    "Let's analyses the rented bike and hour relation?"
   ]
  },
  {
   "cell_type": "code",
   "execution_count": 17,
   "metadata": {},
   "outputs": [
    {
     "data": {
      "image/png": "[encoded data removed]",
      "text/plain": [
       "plot without title"
      ]
     },
     "metadata": {},
     "output_type": "display_data"
    }
   ],
   "source": [
    "bike_group_by_hour = bike_data %>%\n",
    "    group_by(hour) %>%\n",
    "    summarize(rented_bike = sum(rented_bike))\n",
    "ggplot(data=bike_group_by_hour, aes(x=hour, y=rented_bike)) +\n",
    "  geom_bar(stat=\"identity\", fill = '#ABEBC6',color='black')"
   ]
  },
  {
   "cell_type": "markdown",
   "metadata": {},
   "source": [
    "From the above bar plot, we can conclude that:\n",
    "1. The maximum number of bikes are rented at 18 clocks.\n",
    "2. The minimum number of bikes are rented at 4 clocks.\n",
    "3. Local maxima are observed at 8 clocks. People rent a bike around 8 clocks.\n",
    "4. In the evening time bike renting is high and we can depict that most people prefer to rent the bike in the evening time."
   ]
  },
  {
   "cell_type": "markdown",
   "metadata": {},
   "source": [
    "## 4. Methodology\n",
    "From the data exploration and Exploratory Data Analysis section, we can conclude that the response variable has a relation with independent variables. so our first approach is to predict the rented bike count using linear regression with all the given variables. Moreover, we have discovered that the target variable(rented_bike) is not normally distributed, so we are going to use log transformation and then use the stepwise function to remove an insignificant variable. \n",
    "For our second model, we will use the Random forest. For comparison, we have used R-square and RMSE."
   ]
  },
  {
   "cell_type": "markdown",
   "metadata": {},
   "source": [
    "## 5.  Model Development\n",
    "### 5.1 Method 1: Linear Regression\n",
    "#### 5.1.1 Using all the variables for prediction\n",
    "A Linear regression model is fitted using the dependent and independent variable."
   ]
  },
  {
   "cell_type": "code",
   "execution_count": 18,
   "metadata": {},
   "outputs": [
    {
     "data": {
      "text/plain": [
       "\n",
       "Call:\n",
       "lm(formula = rented_bike ~ ., data = bike_data)\n",
       "\n",
       "Residuals:\n",
       "    Min      1Q  Median      3Q     Max \n",
       "-1152.8  -277.6   -54.8   209.7  2235.5 \n",
       "\n",
       "Coefficients:\n",
       "                    Estimate Std. Error t value Pr(>|t|)    \n",
       "(Intercept)        2.531e+04  3.530e+03   7.170 8.26e-13 ***\n",
       "date              -1.428e+00  1.980e-01  -7.211 6.16e-13 ***\n",
       "hour               2.749e+01  8.230e-01  33.403  < 2e-16 ***\n",
       "temperature        1.748e+01  4.051e+00   4.315 1.62e-05 ***\n",
       "humidity          -1.062e+01  1.137e+00  -9.334  < 2e-16 ***\n",
       "wind_speed         2.064e+01  5.730e+00   3.602 0.000318 ***\n",
       "visibility         1.072e-02  1.102e-02   0.972 0.330906    \n",
       "dew_temp           1.017e+01  4.237e+00   2.400 0.016437 *  \n",
       "solar_rad         -7.872e+01  8.520e+00  -9.240  < 2e-16 ***\n",
       "rainfall          -5.510e+01  4.614e+00 -11.941  < 2e-16 ***\n",
       "snowfall           4.088e+01  1.236e+01   3.307 0.000949 ***\n",
       "seasonSpring      -3.930e+02  3.964e+01  -9.914  < 2e-16 ***\n",
       "seasonSummer      -2.790e+02  2.699e+01 -10.340  < 2e-16 ***\n",
       "seasonWinter      -7.439e+02  5.828e+01 -12.765  < 2e-16 ***\n",
       "holidayNo Holiday  1.334e+02  2.413e+01   5.526 3.39e-08 ***\n",
       "func_dayYes        9.370e+02  2.963e+01  31.620  < 2e-16 ***\n",
       "---\n",
       "Signif. codes:  0 '***' 0.001 '**' 0.01 '*' 0.05 '.' 0.1 ' ' 1\n",
       "\n",
       "Residual standard error: 432.5 on 6992 degrees of freedom\n",
       "Multiple R-squared:  0.5525,\tAdjusted R-squared:  0.5516 \n",
       "F-statistic: 575.6 on 15 and 6992 DF,  p-value: < 2.2e-16\n"
      ]
     },
     "metadata": {},
     "output_type": "display_data"
    }
   ],
   "source": [
    "# Linear model using all the variable\n",
    "linear_model =  lm(rented_bike ~ ., data=bike_data )\n",
    "summary(linear_model)"
   ]
  },
  {
   "cell_type": "markdown",
   "metadata": {},
   "source": [
    "from above linear model we can conclude that:\n",
    "\n",
    "-  The Adjusted R-square is 0.55 which means that this model explains 55% of variablility of the dataset.\n",
    "- F-statistic >> 1 indicates that the response variable and explanatory vairable have strong relationship. Moreover, the model has p-value equal to 2.2e^-16 that reject Null-Hypothesis.\n",
    "- Visibility has p-value greater than 0.05 which means visibility is not significate."
   ]
  },
  {
   "cell_type": "code",
   "execution_count": 19,
   "metadata": {},
   "outputs": [
    {
     "data": {
      "image/png": "[encoded data removed]",
      "text/plain": [
       "Plot with title \"\""
      ]
     },
     "metadata": {},
     "output_type": "display_data"
    }
   ],
   "source": [
    "par(mfcol=c(2,2))\n",
    "plot(linear_model)"
   ]
  },
  {
   "cell_type": "markdown",
   "metadata": {},
   "source": [
    "From the above plots, we can conclude that:\n",
    "1. The **residual vs fitted** plot shows that the residuals are not linear. The plot clearly shows a non-linear pattern.\n",
    "2. The **normal Q-Q plot** shows that the residual is not normally distributed because the point wasn't lying on the straight line.\n",
    "3. The **scale-location plot** represents the variance of residuals along with predictors. The above plot shows that variance is not spread equally. Most of the points lying on the right side.\n",
    "4. The **residual-leverage plot** represent the outliers and influence point. In the above plot, the cook's distance line is barely visible so we don't have any influential cases.\n"
   ]
  },
  {
   "cell_type": "markdown",
   "metadata": {},
   "source": [
    "#### 5.1.2 Using Log Transformation on response variable\n",
    "\n",
    "As we have seen in the data exploration section that the rented_bike variable is right-skewed, so we are required to apply log transformation on the rented_bike variable to make it normalized."
   ]
  },
  {
   "cell_type": "code",
   "execution_count": 20,
   "metadata": {
    "scrolled": false
   },
   "outputs": [
    {
     "data": {
      "text/plain": [
       "\n",
       "Call:\n",
       "lm(formula = log10(rented_bike + 1) ~ ., data = bike_data)\n",
       "\n",
       "Residuals:\n",
       "     Min       1Q   Median       3Q      Max \n",
       "-2.09863 -0.15037  0.02675  0.18334  2.67037 \n",
       "\n",
       "Coefficients:\n",
       "                    Estimate Std. Error t value Pr(>|t|)    \n",
       "(Intercept)        1.440e+01  2.589e+00   5.562 2.76e-08 ***\n",
       "date              -7.803e-04  1.452e-04  -5.373 7.99e-08 ***\n",
       "hour               1.797e-02  6.036e-04  29.778  < 2e-16 ***\n",
       "temperature       -9.211e-03  2.971e-03  -3.101  0.00194 ** \n",
       "humidity          -1.468e-02  8.340e-04 -17.604  < 2e-16 ***\n",
       "wind_speed        -3.681e-03  4.202e-03  -0.876  0.38100    \n",
       "visibility         1.237e-06  8.082e-06   0.153  0.87837    \n",
       "dew_temp           2.923e-02  3.107e-03   9.406  < 2e-16 ***\n",
       "solar_rad         -2.348e-03  6.248e-03  -0.376  0.70709    \n",
       "rainfall          -8.639e-02  3.384e-03 -25.531  < 2e-16 ***\n",
       "snowfall          -3.571e-03  9.067e-03  -0.394  0.69376    \n",
       "seasonSpring      -2.812e-01  2.907e-02  -9.671  < 2e-16 ***\n",
       "seasonSummer      -1.917e-01  1.979e-02  -9.686  < 2e-16 ***\n",
       "seasonWinter      -5.619e-01  4.274e-02 -13.147  < 2e-16 ***\n",
       "holidayNo Holiday  1.606e-01  1.770e-02   9.072  < 2e-16 ***\n",
       "func_dayYes        2.822e+00  2.173e-02 129.849  < 2e-16 ***\n",
       "---\n",
       "Signif. codes:  0 '***' 0.001 '**' 0.01 '*' 0.05 '.' 0.1 ' ' 1\n",
       "\n",
       "Residual standard error: 0.3172 on 6992 degrees of freedom\n",
       "Multiple R-squared:  0.7887,\tAdjusted R-squared:  0.7882 \n",
       "F-statistic:  1740 on 15 and 6992 DF,  p-value: < 2.2e-16\n"
      ]
     },
     "metadata": {},
     "output_type": "display_data"
    }
   ],
   "source": [
    "log_linear_model =  lm(log10(rented_bike+1) ~ ., data=bike_data)\n",
    "summary(log_linear_model)"
   ]
  },
  {
   "cell_type": "markdown",
   "metadata": {},
   "source": [
    "From the above model, we can conclude that:\n",
    "- The log transformation is performing significantly good.\n",
    "- The adjusted R-square is improved to 0.78\n",
    "- The Residual standard error was reduced drastically.\n",
    "- F-statistic is way greater than 1."
   ]
  },
  {
   "cell_type": "code",
   "execution_count": 21,
   "metadata": {},
   "outputs": [
    {
     "data": {
      "image/png": "[encoded data removed]",
      "text/plain": [
       "Plot with title \"\""
      ]
     },
     "metadata": {},
     "output_type": "display_data"
    }
   ],
   "source": [
    "par(mfcol=c(2,2))\n",
    "plot(log_linear_model)"
   ]
  },
  {
   "cell_type": "markdown",
   "metadata": {},
   "source": [
    "From the above plots, we can conclude that:\n",
    "1. The **residual vs fitted** plot clearly shows that the residuals are linearly fitted.\n",
    "2. The **normal Q-Q plot** shows that the residual is mostly normal distributed.\n",
    "3. The **scale-location plot** represents the variance of residuals along with predictors. The above plot shows that variance is not spread equally. Most of the points lying on the right side.\n",
    "4. The **residual-leverage plot** represent the outliers and influence point. In the above plot, point 5741 is an influence point.\n"
   ]
  },
  {
   "cell_type": "code",
   "execution_count": 22,
   "metadata": {},
   "outputs": [
    {
     "data": {
      "image/png": "[encoded data removed]",
      "text/plain": [
       "Plot with title \"\""
      ]
     },
     "metadata": {},
     "output_type": "display_data"
    }
   ],
   "source": [
    "plot(log_linear_model, which = 4)"
   ]
  },
  {
   "cell_type": "markdown",
   "metadata": {},
   "source": [
    "#### 5.1.3 Removing the influencial point"
   ]
  },
  {
   "cell_type": "code",
   "execution_count": 23,
   "metadata": {},
   "outputs": [
    {
     "data": {
      "text/plain": [
       "\n",
       "Call:\n",
       "lm(formula = log10(rented_bike + 1) ~ ., data = model1_data)\n",
       "\n",
       "Residuals:\n",
       "     Min       1Q   Median       3Q      Max \n",
       "-2.09890 -0.15053  0.02582  0.18259  2.32571 \n",
       "\n",
       "Coefficients:\n",
       "                    Estimate Std. Error t value Pr(>|t|)    \n",
       "(Intercept)        1.432e+01  2.574e+00   5.565 2.72e-08 ***\n",
       "date              -7.774e-04  1.444e-04  -5.384 7.51e-08 ***\n",
       "hour               1.808e-02  6.002e-04  30.118  < 2e-16 ***\n",
       "temperature       -8.414e-03  2.955e-03  -2.848  0.00442 ** \n",
       "humidity          -1.430e-02  8.303e-04 -17.229  < 2e-16 ***\n",
       "wind_speed        -3.488e-03  4.178e-03  -0.835  0.40374    \n",
       "visibility         1.639e-07  8.036e-06   0.020  0.98373    \n",
       "dew_temp           2.819e-02  3.091e-03   9.119  < 2e-16 ***\n",
       "solar_rad         -2.001e-03  6.212e-03  -0.322  0.74733    \n",
       "rainfall          -9.835e-02  3.612e-03 -27.230  < 2e-16 ***\n",
       "snowfall          -4.119e-03  9.015e-03  -0.457  0.64771    \n",
       "seasonSpring      -2.824e-01  2.890e-02  -9.769  < 2e-16 ***\n",
       "seasonSummer      -1.883e-01  1.968e-02  -9.569  < 2e-16 ***\n",
       "seasonWinter      -5.638e-01  4.249e-02 -13.268  < 2e-16 ***\n",
       "holidayNo Holiday  1.600e-01  1.759e-02   9.092  < 2e-16 ***\n",
       "func_dayYes        2.821e+00  2.161e-02 130.561  < 2e-16 ***\n",
       "---\n",
       "Signif. codes:  0 '***' 0.001 '**' 0.01 '*' 0.05 '.' 0.1 ' ' 1\n",
       "\n",
       "Residual standard error: 0.3154 on 6991 degrees of freedom\n",
       "Multiple R-squared:  0.7911,\tAdjusted R-squared:  0.7907 \n",
       "F-statistic:  1765 on 15 and 6991 DF,  p-value: < 2.2e-16\n"
      ]
     },
     "metadata": {},
     "output_type": "display_data"
    }
   ],
   "source": [
    "model1_data = bike_data[-5741,]\n",
    "log_linear_model =  lm(log10(rented_bike+1) ~ ., data=model1_data)\n",
    "summary(log_linear_model)"
   ]
  },
  {
   "cell_type": "markdown",
   "metadata": {},
   "source": [
    "After removing the influencly point, the adjusted R-squared improved and Residual standarded error is reduced."
   ]
  },
  {
   "cell_type": "code",
   "execution_count": 24,
   "metadata": {},
   "outputs": [
    {
     "data": {
      "image/png": "[encoded data removed]",
      "text/plain": [
       "Plot with title \"\""
      ]
     },
     "metadata": {},
     "output_type": "display_data"
    }
   ],
   "source": [
    "par(mfcol=c(2,2))\n",
    "plot(log_linear_model)"
   ]
  },
  {
   "cell_type": "markdown",
   "metadata": {},
   "source": [
    "No more influencly points in the data set"
   ]
  },
  {
   "cell_type": "markdown",
   "metadata": {},
   "source": [
    "#### 5.1.4 subset selection\n"
   ]
  },
  {
   "cell_type": "code",
   "execution_count": 25,
   "metadata": {},
   "outputs": [],
   "source": [
    "\n",
    "# Set seed for reproducibility\n",
    "set.seed(1)\n",
    "# Set up repeated k-fold cross-validation\n",
    "train.control <- trainControl(method = \"cv\", number = 10)\n",
    "\n",
    "# Train the model in backward selection\n",
    "step_bck <- train(log10(rented_bike+1) ~., data = model1_data,\n",
    "                    method = \"leapBackward\", \n",
    "                    tuneGrid = data.frame(nvmax = 1:14),\n",
    "                    trControl = train.control\n",
    "                    )\n",
    "\n",
    "# Train the model in forward selection\n",
    "step_fwd <- train(log10(rented_bike+1) ~., data = model1_data,\n",
    "                    method = \"leapForward\", \n",
    "                    tuneGrid = data.frame(nvmax = 1:14),\n",
    "                    trControl = train.control\n",
    "                    )\n",
    "\n",
    "# Train the model in  stepwise selection\n",
    "stepwise <- train(log10(rented_bike+1) ~., data = model1_data,\n",
    "                    method = \"leapSeq\", \n",
    "                    tuneGrid = data.frame(nvmax = 1:14),\n",
    "                    trControl = train.control\n",
    "                    )"
   ]
  },
  {
   "cell_type": "code",
   "execution_count": 26,
   "metadata": {},
   "outputs": [
    {
     "data": {
      "image/png": "[encoded data removed]",
      "text/plain": [
       "plot without title"
      ]
     },
     "metadata": {},
     "output_type": "display_data"
    }
   ],
   "source": [
    "par(mfrow = c(2,2))\n",
    "\n",
    "plot(y=step_bck$result$RMSE,\n",
    "     x= step_bck$result$nvmax,\n",
    "     col='red', \n",
    "     cex=2, \n",
    "     pch=20, \n",
    "     type='b',\n",
    "    xlab='Number of variables',\n",
    "    ylab='RMSE of backward selection')\n",
    "plot(y=step_fwd$result$RMSE,\n",
    "     x= step_fwd$result$nvmax,\n",
    "     col='red', \n",
    "     cex=2, \n",
    "     pch=20, \n",
    "     type='b',\n",
    "    xlab='Number of variables',\n",
    "    ylab='RMSE of forward selection')\n",
    "\n",
    "plot(y=stepwise$result$RMSE,\n",
    "     x= stepwise$result$nvmax,\n",
    "     col='red', \n",
    "     cex=2, \n",
    "     pch=20, \n",
    "     type='b',\n",
    "    xlab='Number of variables',\n",
    "    ylab='RMSE of stepwise selection')"
   ]
  },
  {
   "cell_type": "code",
   "execution_count": 27,
   "metadata": {},
   "outputs": [
    {
     "data": {
      "text/html": [
       "<table>\n",
       "<thead><tr><th></th><th scope=col>rmse</th><th scope=col>variable_rmse</th><th scope=col>Rsquared</th><th scope=col>variable_rmse.1</th><th scope=col>RsquaredSD</th><th scope=col>variabel_RsquaredSD</th></tr></thead>\n",
       "<tbody>\n",
       "\t<tr><th scope=row>backward</th><td>0.3160248 </td><td>11        </td><td>0.7883083 </td><td>11        </td><td>0.02370321</td><td> 8        </td></tr>\n",
       "\t<tr><th scope=row>forward</th><td>0.3157783 </td><td>11        </td><td>0.7897712 </td><td>11        </td><td>0.02784938</td><td>11        </td></tr>\n",
       "\t<tr><th scope=row>stepwise</th><td>0.3159994 </td><td>10        </td><td>0.7900204 </td><td>10        </td><td>0.01199415</td><td>10        </td></tr>\n",
       "</tbody>\n",
       "</table>\n"
      ],
      "text/latex": [
       "\\begin{tabular}{r|llllll}\n",
       "  & rmse & variable\\_rmse & Rsquared & variable\\_rmse.1 & RsquaredSD & variabel\\_RsquaredSD\\\\\n",
       "\\hline\n",
       "\tbackward & 0.3160248  & 11         & 0.7883083  & 11         & 0.02370321 &  8        \\\\\n",
       "\tforward & 0.3157783  & 11         & 0.7897712  & 11         & 0.02784938 & 11        \\\\\n",
       "\tstepwise & 0.3159994  & 10         & 0.7900204  & 10         & 0.01199415 & 10        \\\\\n",
       "\\end{tabular}\n"
      ],
      "text/markdown": [
       "\n",
       "| <!--/--> | rmse | variable_rmse | Rsquared | variable_rmse.1 | RsquaredSD | variabel_RsquaredSD |\n",
       "|---|---|---|---|---|---|---|\n",
       "| backward | 0.3160248  | 11         | 0.7883083  | 11         | 0.02370321 |  8         |\n",
       "| forward | 0.3157783  | 11         | 0.7897712  | 11         | 0.02784938 | 11         |\n",
       "| stepwise | 0.3159994  | 10         | 0.7900204  | 10         | 0.01199415 | 10         |\n",
       "\n"
      ],
      "text/plain": [
       "         rmse      variable_rmse Rsquared  variable_rmse.1 RsquaredSD\n",
       "backward 0.3160248 11            0.7883083 11              0.02370321\n",
       "forward  0.3157783 11            0.7897712 11              0.02784938\n",
       "stepwise 0.3159994 10            0.7900204 10              0.01199415\n",
       "         variabel_RsquaredSD\n",
       "backward  8                 \n",
       "forward  11                 \n",
       "stepwise 10                 "
      ]
     },
     "metadata": {},
     "output_type": "display_data"
    }
   ],
   "source": [
    "# Minimum RMSE in each subset selecting \n",
    "RMSE = c(min(step_bck$result$RMSE),\n",
    "min(step_fwd$result$RMSE),\n",
    "min(stepwise$result$RMSE))\n",
    "\n",
    "# number of variable corresponding to minimum RMSE\n",
    "RMSE_variable = c(which.min(step_bck$result$RMSE),\n",
    "which.min(step_fwd$result$RMSE),\n",
    "which.min(stepwise$result$RMSE))\n",
    "\n",
    "# Maximum R-squared in each subset selecting\n",
    "Rsquared = c(max(step_bck$result$Rsquared),\n",
    "max(step_fwd$result$Rsquared),\n",
    "max(stepwise$result$Rsquared))\n",
    "\n",
    "# Number of variable corresponsding to maximum R-squared\n",
    "Rsquared_variable = c(which.max(step_bck$result$Rsquared),\n",
    "which.max(step_fwd$result$Rsquared),\n",
    "which.max(stepwise$result$Rsquared))\n",
    "\n",
    "# Minimum standard deviation in R-squared in each subset selecting\n",
    "RsquaredSD = c(min(step_bck$result$RsquaredSD),\n",
    "min(step_fwd$result$RsquaredSD),\n",
    "min(stepwise$result$RsquaredSD))\n",
    "\n",
    "# Minimum standard deviation in R-squared in each subset selecting\n",
    "RsquaredSD_variable = c(which.min(step_bck$result$RsquaredSD),\n",
    "which.min(step_fwd$result$RsquaredSD),\n",
    "which.min(stepwise$result$RsquaredSD))\n",
    "\n",
    "compare = data.frame('rmse'= RMSE,\n",
    "                     'variable_rmse'=RMSE_variable,\n",
    "                     'Rsquared'=Rsquared,\n",
    "                     'variable_rmse'= Rsquared_variable,\n",
    "                     'RsquaredSD'=RsquaredSD,\n",
    "                      'variabel_RsquaredSD'=RsquaredSD_variable)\n",
    "row.names(compare)= c('backward','forward','stepwise')\n",
    "compare"
   ]
  },
  {
   "cell_type": "markdown",
   "metadata": {},
   "source": [
    "For above subset selection techniques we can conclude that:\n",
    "stepwise is selecting is performing better than backward and forward technique because it is using less number of variable and resulting into highest Rsquared value."
   ]
  },
  {
   "cell_type": "code",
   "execution_count": 28,
   "metadata": {},
   "outputs": [
    {
     "data": {
      "text/html": [
       "<dl class=dl-horizontal>\n",
       "\t<dt>(Intercept)</dt>\n",
       "\t\t<dd>14.1790486971797</dd>\n",
       "\t<dt>date</dt>\n",
       "\t\t<dd>-0.000781261392825597</dd>\n",
       "\t<dt>hour</dt>\n",
       "\t\t<dd>0.0178213573574585</dd>\n",
       "\t<dt>humidity</dt>\n",
       "\t\t<dd>-0.0119404772027642</dd>\n",
       "\t<dt>dew_temp</dt>\n",
       "\t\t<dd>0.0193556929035626</dd>\n",
       "\t<dt>rainfall</dt>\n",
       "\t\t<dd>-0.0999127773399484</dd>\n",
       "\t<dt>seasonSpring</dt>\n",
       "\t\t<dd>-0.286497686809535</dd>\n",
       "\t<dt>seasonSummer</dt>\n",
       "\t\t<dd>-0.190249962887833</dd>\n",
       "\t<dt>seasonWinter</dt>\n",
       "\t\t<dd>-0.562475652601068</dd>\n",
       "\t<dt>holidayNo Holiday</dt>\n",
       "\t\t<dd>0.159475917207993</dd>\n",
       "\t<dt>func_dayYes</dt>\n",
       "\t\t<dd>2.82042282296727</dd>\n",
       "</dl>\n"
      ],
      "text/latex": [
       "\\begin{description*}\n",
       "\\item[(Intercept)] 14.1790486971797\n",
       "\\item[date] -0.000781261392825597\n",
       "\\item[hour] 0.0178213573574585\n",
       "\\item[humidity] -0.0119404772027642\n",
       "\\item[dew\\textbackslash{}\\_temp] 0.0193556929035626\n",
       "\\item[rainfall] -0.0999127773399484\n",
       "\\item[seasonSpring] -0.286497686809535\n",
       "\\item[seasonSummer] -0.190249962887833\n",
       "\\item[seasonWinter] -0.562475652601068\n",
       "\\item[holidayNo Holiday] 0.159475917207993\n",
       "\\item[func\\textbackslash{}\\_dayYes] 2.82042282296727\n",
       "\\end{description*}\n"
      ],
      "text/markdown": [
       "(Intercept)\n",
       ":   14.1790486971797date\n",
       ":   -0.000781261392825597hour\n",
       ":   0.0178213573574585humidity\n",
       ":   -0.0119404772027642dew_temp\n",
       ":   0.0193556929035626rainfall\n",
       ":   -0.0999127773399484seasonSpring\n",
       ":   -0.286497686809535seasonSummer\n",
       ":   -0.190249962887833seasonWinter\n",
       ":   -0.562475652601068holidayNo Holiday\n",
       ":   0.159475917207993func_dayYes\n",
       ":   2.82042282296727\n",
       "\n"
      ],
      "text/plain": [
       "      (Intercept)              date              hour          humidity \n",
       "    14.1790486972     -0.0007812614      0.0178213574     -0.0119404772 \n",
       "         dew_temp          rainfall      seasonSpring      seasonSummer \n",
       "     0.0193556929     -0.0999127773     -0.2864976868     -0.1902499629 \n",
       "     seasonWinter holidayNo Holiday       func_dayYes \n",
       "    -0.5624756526      0.1594759172      2.8204228230 "
      ]
     },
     "metadata": {},
     "output_type": "display_data"
    }
   ],
   "source": [
    "coef(stepwise$finalModel,10)"
   ]
  },
  {
   "cell_type": "markdown",
   "metadata": {},
   "source": [
    "##### 5.1.5 Computing the linear model using only selected attributes"
   ]
  },
  {
   "cell_type": "code",
   "execution_count": 29,
   "metadata": {},
   "outputs": [
    {
     "data": {
      "text/plain": [
       "\n",
       "Call:\n",
       "lm(formula = log10(rented_bike + 1) ~ date + hour + humidity + \n",
       "    dew_temp + rainfall + season + holiday + func_day, data = model1_data)\n",
       "\n",
       "Residuals:\n",
       "     Min       1Q   Median       3Q      Max \n",
       "-2.10631 -0.15199  0.02528  0.18222  2.32830 \n",
       "\n",
       "Coefficients:\n",
       "                    Estimate Std. Error t value Pr(>|t|)    \n",
       "(Intercept)       14.1790487  2.5650535   5.528 3.36e-08 ***\n",
       "date              -0.0007813  0.0001439  -5.428 5.89e-08 ***\n",
       "hour               0.0178214  0.0005777  30.849  < 2e-16 ***\n",
       "humidity          -0.0119405  0.0002625 -45.495  < 2e-16 ***\n",
       "dew_temp           0.0193557  0.0007003  27.639  < 2e-16 ***\n",
       "rainfall          -0.0999128  0.0035794 -27.913  < 2e-16 ***\n",
       "seasonSpring      -0.2864977  0.0286316 -10.006  < 2e-16 ***\n",
       "seasonSummer      -0.1902500  0.0195630  -9.725  < 2e-16 ***\n",
       "seasonWinter      -0.5624757  0.0421714 -13.338  < 2e-16 ***\n",
       "holidayNo Holiday  0.1594759  0.0175904   9.066  < 2e-16 ***\n",
       "func_dayYes        2.8204228  0.0215937 130.613  < 2e-16 ***\n",
       "---\n",
       "Signif. codes:  0 '***' 0.001 '**' 0.01 '*' 0.05 '.' 0.1 ' ' 1\n",
       "\n",
       "Residual standard error: 0.3155 on 6996 degrees of freedom\n",
       "Multiple R-squared:  0.7908,\tAdjusted R-squared:  0.7905 \n",
       "F-statistic:  2644 on 10 and 6996 DF,  p-value: < 2.2e-16\n"
      ]
     },
     "metadata": {},
     "output_type": "display_data"
    }
   ],
   "source": [
    "log_linear_model =  lm(log10(rented_bike+1) ~ date + hour + humidity + dew_temp + rainfall + season + holiday + func_day, data=model1_data)\n",
    "summary(log_linear_model)"
   ]
  },
  {
   "cell_type": "markdown",
   "metadata": {},
   "source": [
    "The final model 1 have Adjusted R-square equal to .7905 that means the model explains 79% of variable with 0.3155 of residual standard error."
   ]
  },
  {
   "cell_type": "markdown",
   "metadata": {},
   "source": [
    "### Method 2 Random Forest"
   ]
  },
  {
   "cell_type": "code",
   "execution_count": 30,
   "metadata": {},
   "outputs": [
    {
     "name": "stderr",
     "output_type": "stream",
     "text": [
      "randomForest 4.6-14\n",
      "Type rfNews() to see new features/changes/bug fixes.\n",
      "\n",
      "Attaching package: 'randomForest'\n",
      "\n",
      "The following object is masked from 'package:dplyr':\n",
      "\n",
      "    combine\n",
      "\n",
      "The following object is masked from 'package:gridExtra':\n",
      "\n",
      "    combine\n",
      "\n",
      "The following object is masked from 'package:ggplot2':\n",
      "\n",
      "    margin\n",
      "\n"
     ]
    }
   ],
   "source": [
    "library(randomForest)"
   ]
  },
  {
   "cell_type": "code",
   "execution_count": 31,
   "metadata": {},
   "outputs": [],
   "source": [
    "rf = randomForest(log10(rented_bike+1)~., data=bike_data)"
   ]
  },
  {
   "cell_type": "code",
   "execution_count": 32,
   "metadata": {},
   "outputs": [
    {
     "data": {
      "text/plain": [
       "\n",
       "Call:\n",
       " randomForest(formula = log10(rented_bike + 1) ~ ., data = bike_data) \n",
       "               Type of random forest: regression\n",
       "                     Number of trees: 500\n",
       "No. of variables tried at each split: 4\n",
       "\n",
       "          Mean of squared residuals: 0.02929086\n",
       "                    % Var explained: 93.83"
      ]
     },
     "metadata": {},
     "output_type": "display_data"
    }
   ],
   "source": [
    "rf"
   ]
  },
  {
   "cell_type": "markdown",
   "metadata": {},
   "source": [
    "## 6. Results and discussion <a class=\"anchor\" id=\"sec_6\"></a>"
   ]
  },
  {
   "cell_type": "markdown",
   "metadata": {},
   "source": [
    "### 6.1 Model comparison"
   ]
  },
  {
   "cell_type": "code",
   "execution_count": 33,
   "metadata": {},
   "outputs": [
    {
     "name": "stdout",
     "output_type": "stream",
     "text": [
      "\n",
      "Name of attributes :\n",
      " date rented_bike hour temperature humidity wind_speed visibility dew_temp solar_rad rainfall snowfall season holiday func_day"
     ]
    }
   ],
   "source": [
    "\n",
    "# Changing the column names\n",
    "col_names = c('date','rented_bike','hour','temperature','humidity','wind_speed','visibility','dew_temp','solar_rad','rainfall','snowfall','season','holiday','func_day')\n",
    "colnames(test_data) = col_names\n",
    "cat(\"\\nName of attributes :\\n\",names(test_data))\n",
    "test_data$date =  as.Date(test_data$date, format='%d/%m/%y')"
   ]
  },
  {
   "cell_type": "markdown",
   "metadata": {},
   "source": [
    "##### Linear regression comparison results"
   ]
  },
  {
   "cell_type": "code",
   "execution_count": 34,
   "metadata": {},
   "outputs": [
    {
     "name": "stdout",
     "output_type": "stream",
     "text": [
      "The RMSE of train data: 0.3174451\n",
      "The R-squared: 0.790485\n",
      "The RMSE of test data: 0.2962033\n",
      "The R-squared: 0.790485"
     ]
    }
   ],
   "source": [
    "evaluation_metrics = function(model, data,type){\n",
    "    p =  predict(model, data)\n",
    "    mse  = mean((p - log10(data$rented_bike+1))^2)\n",
    "    cat(sqrt(mse))\n",
    "    if(type == 'rf'){\n",
    "      cat(\"\\nThe R-squared:\", mean(model$rsq))  \n",
    "    }\n",
    "    else{\n",
    "      cat(\"\\nThe R-squared:\", summary(model)$adj.r.squared)  \n",
    "    }\n",
    "    \n",
    "}\n",
    "\n",
    "cat(\"The RMSE of train data: \")\n",
    "evaluation_metrics(log_linear_model, bike_data,'lm')\n",
    "cat(\"\\nThe RMSE of test data: \")\n",
    "evaluation_metrics(log_linear_model, test_data,'lm')\n"
   ]
  },
  {
   "cell_type": "markdown",
   "metadata": {},
   "source": [
    "##### Random forest comparison results"
   ]
  },
  {
   "cell_type": "code",
   "execution_count": 35,
   "metadata": {},
   "outputs": [
    {
     "name": "stdout",
     "output_type": "stream",
     "text": [
      "The RMSE of train data: 0.08023029\n",
      "The R-squared: 0.9356947\n",
      "The RMSE of test data: 0.1592557\n",
      "The R-squared: 0.9356947"
     ]
    }
   ],
   "source": [
    "\n",
    "cat(\"The RMSE of train data: \")\n",
    "train_rmse =  evaluation_metrics(rf, bike_data,'rf')\n",
    "cat(\"\\nThe RMSE of test data: \")\n",
    "test_rmse = evaluation_metrics(rf, test_data,'rf')"
   ]
  },
  {
   "cell_type": "markdown",
   "metadata": {},
   "source": [
    "To predict rented bike usage in the metropolitan area, we have used 2 models. The first model uses linear regression with stepwise feature selection. The second model used random forest with 500 trees and 4 splits at each node. To compare the result, we have used Adjusted R-square and RMSE. The Adjusted R-square explains the variance explained by the model and from the above comparison metric, random forest performing excellently. Another comparison parameter is the Root mean square error(RMSE) and the random forest is performing well as compare to the linear model."
   ]
  },
  {
   "cell_type": "markdown",
   "metadata": {},
   "source": [
    "## 7. Conclusion <a class=\"anchor\" id=\"sec_7\"></a>"
   ]
  },
  {
   "cell_type": "markdown",
   "metadata": {},
   "source": [
    "For rented bike count prediction, we have used two different machine learning algorithms - multiple linear regression and random forest. The high correlated variable is more significant. From the data exploration section, we can conclude that hour and temperature are most significant variables. To calculate the error in the prediction we have using RMSE. From the result of both models, we found that random forest has less RMSE value than linear regression, therefore random forest is better. Another parameter to evaluate the model accuracy, we have used R-squared which explains how our model is fitting the data. The linear regression model has 79.04% of R-square value whereas random forest has 93.56%. Therefore the random forest is performing away better than linear regression"
   ]
  },
  {
   "cell_type": "markdown",
   "metadata": {},
   "source": [
    "## 8. Reference <a class=\"anchor\" id=\"sec_8\"></a>"
   ]
  },
  {
   "cell_type": "markdown",
   "metadata": {},
   "source": [
    "https://cran.r-project.org/web/packages/olsrr/vignettes/influence_measures.html"
   ]
  },
  {
   "cell_type": "markdown",
   "metadata": {},
   "source": [
    "http://www.sthda.com/english/articles/37-model-selection-essentials-in-r/154-stepwise-regression-essentials-in-r/"
   ]
  },
  {
   "cell_type": "markdown",
   "metadata": {},
   "source": [
    "https://www.rdocumentation.org/packages/olsrr/versions/0.5.3"
   ]
  }
 ],
 "metadata": {
  "kernelspec": {
   "display_name": "R",
   "language": "R",
   "name": "ir"
  },
  "language_info": {
   "codemirror_mode": "r",
   "file_extension": ".r",
   "mimetype": "text/x-r-source",
   "name": "R",
   "pygments_lexer": "r",
   "version": "3.6.1"
  }
 },
 "nbformat": 4,
 "nbformat_minor": 4
}
